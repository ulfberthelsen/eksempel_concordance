{
 "cells": [
  {
   "cell_type": "markdown",
   "metadata": {},
   "source": [
    "***\n",
    "***\n",
    "# Eksempel på digital litteratur analyse\n",
    "***\n",
    "***\n",
    "I dette eksempel indlæses og renses romanerne *Kongens Fald* og 'Fru Marie Grubbe* af henholdvis Johs. V. Jensen og I. P. Jacobsen. Teksterne gennemgår først en såkaldt præ-processerings teskt, hvor overflødige tegn slettes, og tekstern splittes fra `string`til `token`, dvs. fra at være en lang streng af bogstaver til at være en liste af ord. "
   ]
  },
  {
   "cell_type": "markdown",
   "metadata": {},
   "source": [
    "Først defineres **funktionen** `rens` (navnet er valgfrit). Her samles en masse funktionalitet i en pakke, som efterfølgende kan anvendes ved at bruge kommandoen `rens()`.\n",
    "\n",
    "De grå felter er aktive, og I afvikler kode-sekvenserne ved at trykke `SHIFT`+`ENTER`."
   ]
  },
  {
   "cell_type": "code",
   "execution_count": null,
   "metadata": {},
   "outputs": [],
   "source": [
    "def rens(text_0):\n",
    "    text_1 = text_0.replace(\"\\n\",\" \")\n",
    "    text_2 = text_1.replace(\".\",\" \")\n",
    "    text_3 = text_2.replace(\",\",\" \")\n",
    "    text_4 = text_3.replace(\":\",\" \")\n",
    "    text_5 = text_4.replace(\"*\",\" \")\n",
    "    text_6 = text_5.replace(\"–\",\" \")\n",
    "    text_7 = text_6.replace(\"'\",\" \")\n",
    "    text_ren = text_7.replace(\"”\",\" \")\n",
    "   # text_lav = text_ren.lower()\n",
    "    text_token = text_ren.split()\n",
    "    return text_token\n"
   ]
  },
  {
   "cell_type": "markdown",
   "metadata": {},
   "source": [
    "Første skridt er at **åbne** og **indlæse** teksterne. Først **Kongens Fald**, der først gemmes under **variabel**-navnet `kf_0` og derefter `kf_1`. Det foregår i to skridt med henholdsvis `open()` og `.read()`-kommandoerne. Med `print()`-kommandoen kan vi tjekke om filen er indlæst korrekt."
   ]
  },
  {
   "cell_type": "code",
   "execution_count": null,
   "metadata": {},
   "outputs": [],
   "source": [
    "kf_0 = open(\"Kongens_fald.txt\", encoding = \"utf8\")\n",
    "kf_1 = kf_0.read()\n",
    "print(kf_1)"
   ]
  },
  {
   "cell_type": "markdown",
   "metadata": {},
   "source": [
    "Herefter **renses** den åbnede tekstfil med kommandoen `rens()`, som vi definerede ovenfor. Den rensede fil gemmes under `variabel`-navnet `kf_rens`. Igen kan vi tjekke om outputtet er, som forventet med `print()`-funktionen."
   ]
  },
  {
   "cell_type": "code",
   "execution_count": null,
   "metadata": {},
   "outputs": [],
   "source": [
    "kf_rens = rens(kf_1)\n",
    "print(kf_rens)\n"
   ]
  },
  {
   "cell_type": "markdown",
   "metadata": {},
   "source": [
    "Med `len()`-funktionen kan vi let tælle tekstens længde målt i antal ord."
   ]
  },
  {
   "cell_type": "code",
   "execution_count": null,
   "metadata": {},
   "outputs": [],
   "source": [
    "print(len(kf_rens)) # antal ord"
   ]
  },
  {
   "cell_type": "markdown",
   "metadata": {},
   "source": [
    "I de næste tre bokse gentages processen med **Marie Grubbe**-teksten, der til sidst gemmes under variabel-navnet `mg_rens`. Navnene på `variabler`er valgfri, så det gælder om at finde balancen mellem, at de er korte og hurtige at skrive, men samtidig informative."
   ]
  },
  {
   "cell_type": "code",
   "execution_count": null,
   "metadata": {},
   "outputs": [],
   "source": [
    "mg_0 = open(\"Fru_Marie_Grubbe.txt\", encoding = \"utf8\")\n",
    "mg_1 = mg_0.read()\n",
    "print(mg_1)"
   ]
  },
  {
   "cell_type": "code",
   "execution_count": null,
   "metadata": {},
   "outputs": [],
   "source": [
    "mg_rens = rens(mg_1)\n",
    "print(mg_rens)"
   ]
  },
  {
   "cell_type": "code",
   "execution_count": null,
   "metadata": {},
   "outputs": [],
   "source": [
    "print(len(mg_rens)) # antal ord"
   ]
  },
  {
   "cell_type": "markdown",
   "metadata": {},
   "source": [
    "Herefter importerer vi pakken `NLTK` (ekstra funktionalitet til tekstanalyse), der blandt mange andre ting tillader os at lave en klassisk korpus-lingvistisk `concordance`-analyse. Vores rensede tekst `kf_rens` 'pakkes ind' i `Text()`-funktionen ( dvs. gøres klar til brug for NLTK-pakkens funktioner) og gemmes under navnet `kf_text`. Herefter kan vi vha. `.concordance()`-funktionen undersøge, i hvilke kontekster fx nominativ-formen 'hun' optræder."
   ]
  },
  {
   "cell_type": "code",
   "execution_count": null,
   "metadata": {},
   "outputs": [],
   "source": [
    "from nltk.text import Text\n",
    "kf_text = Text(kf_rens)\n",
    "kf_text.concordance('hun', lines = 10)\n",
    "# hun (nom) > kvinden som subjekt"
   ]
  },
  {
   "cell_type": "markdown",
   "metadata": {},
   "source": [
    "Nedenfor gør vi det samme med Maria Grubbe-teksten."
   ]
  },
  {
   "cell_type": "code",
   "execution_count": null,
   "metadata": {},
   "outputs": [],
   "source": [
    "mg_text = Text(mg_rens)\n",
    "mg_text.concordance('hun', lines = 10)\n",
    "# hende (nom) > kvinden som subjekt"
   ]
  },
  {
   "cell_type": "markdown",
   "metadata": {},
   "source": [
    "I de to bokse nedenfor gentager vi proceduren, men leder denne gang efter akkusativ-formen 'hende'."
   ]
  },
  {
   "cell_type": "code",
   "execution_count": null,
   "metadata": {},
   "outputs": [],
   "source": [
    "kf_text.concordance('hende', lines = 10)\n",
    "# hende (akk) > kvinden som objekt\n"
   ]
  },
  {
   "cell_type": "code",
   "execution_count": null,
   "metadata": {},
   "outputs": [],
   "source": [
    "mg_text.concordance('hende', lines = 10)\n",
    "# hende (akk) > kvinden som objekt"
   ]
  },
  {
   "cell_type": "code",
   "execution_count": null,
   "metadata": {},
   "outputs": [],
   "source": []
  }
 ],
 "metadata": {
  "kernelspec": {
   "display_name": "Python 3",
   "language": "python",
   "name": "python3"
  },
  "language_info": {
   "codemirror_mode": {
    "name": "ipython",
    "version": 3
   },
   "file_extension": ".py",
   "mimetype": "text/x-python",
   "name": "python",
   "nbconvert_exporter": "python",
   "pygments_lexer": "ipython3",
   "version": "3.8.3"
  }
 },
 "nbformat": 4,
 "nbformat_minor": 4
}
